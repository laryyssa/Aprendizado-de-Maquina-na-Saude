{
 "cells": [
  {
   "cell_type": "code",
   "execution_count": 1,
   "metadata": {},
   "outputs": [],
   "source": [
    "import pandas as pd\n",
    "from scipy.io import arff\n",
    "import numpy as np\n",
    "import matplotlib.pyplot as plt\n",
    "import seaborn as sns\n",
    "import sys\n"
   ]
  },
  {
   "cell_type": "code",
   "execution_count": 2,
   "metadata": {},
   "outputs": [],
   "source": [
    "data1 = arff.loadarff('data/Elsa_Core.arff')\n",
    "data2 = arff.loadarff('data/Elsa_Nurse.arff')\n",
    "df_core = pd.DataFrame(data1[0])\n",
    "df_nurse = pd.DataFrame(data2[0])"
   ]
  },
  {
   "cell_type": "code",
   "execution_count": 3,
   "metadata": {},
   "outputs": [
    {
     "name": "stdout",
     "output_type": "stream",
     "text": [
      "<class 'pandas.core.frame.DataFrame'>\n",
      "RangeIndex: 8405 entries, 0 to 8404\n",
      "Data columns (total 43 columns):\n",
      " #   Column                 Non-Null Count  Dtype  \n",
      "---  ------                 --------------  -----  \n",
      " 0   idauniq                8405 non-null   float64\n",
      " 1   indager_w7             8405 non-null   float64\n",
      " 2   sex                    8405 non-null   float64\n",
      " 3   cesd_w7                8405 non-null   float64\n",
      " 4   cfmetm_w7              8405 non-null   object \n",
      " 5   cfmetper_w7            8405 non-null   object \n",
      " 6   dicdnf_w7              8405 non-null   object \n",
      " 7   dicdnm_w7              8405 non-null   object \n",
      " 8   heacta_w7              8405 non-null   object \n",
      " 9   heactb_w7              8405 non-null   object \n",
      " 10  heactc_w7              8405 non-null   object \n",
      " 11  headlno_w7             8405 non-null   object \n",
      " 12  headlX-of-6_w7         8405 non-null   float64\n",
      " 13  heam_w7                8405 non-null   object \n",
      " 14  hecanaa_w7             8405 non-null   object \n",
      " 15  hecanb_w7              8405 non-null   object \n",
      " 16  hechm_w7               8405 non-null   object \n",
      " 17  hefrac_w7              8405 non-null   object \n",
      " 18  hehelf_w7              8405 non-null   object \n",
      " 19  heiadlX-of-9_w7        8405 non-null   float64\n",
      " 20  heill_w7               8405 non-null   object \n",
      " 21  heji_w7                8405 non-null   object \n",
      " 22  helng_w7               8405 non-null   object \n",
      " 23  hemobno_w7             8405 non-null   object \n",
      " 24  hemobX-of-10_w7        8405 non-null   float64\n",
      " 25  hepaa_w7               8405 non-null   object \n",
      " 26  hepain_w7              8405 non-null   object \n",
      " 27  hepawX-of-7_w7         8405 non-null   float64\n",
      " 28  hepsyX-of-9_w7         8405 non-null   float64\n",
      " 29  heyrc_w7               8405 non-null   object \n",
      " 30  scako_w7               8405 non-null   object \n",
      " 31  smokerstat_w7          8405 non-null   object \n",
      " 32  class_heartattack_w7   8405 non-null   object \n",
      " 33  class_angina_w7        8405 non-null   object \n",
      " 34  class_stroke_w7        8405 non-null   object \n",
      " 35  class_diabetes_w7      8405 non-null   object \n",
      " 36  class_diabetes_w8      8405 non-null   object \n",
      " 37  class_hbp_w7           8405 non-null   object \n",
      " 38  class_dementia_w7      8405 non-null   object \n",
      " 39  class_cataract_w7      8405 non-null   object \n",
      " 40  class_arthritis_w7     8405 non-null   object \n",
      " 41  class_osteoporosis_w7  8405 non-null   object \n",
      " 42  class_parkinsons_w7    8405 non-null   object \n",
      "dtypes: float64(9), object(34)\n",
      "memory usage: 2.8+ MB\n"
     ]
    }
   ],
   "source": [
    "w7_columns_core = df_core.filter(regex='w7|sex|idauniq|class_diabetes_w8')\n",
    "core = df_core[w7_columns_core.columns]\n",
    "core.info()"
   ]
  },
  {
   "cell_type": "code",
   "execution_count": 4,
   "metadata": {},
   "outputs": [
    {
     "name": "stdout",
     "output_type": "stream",
     "text": [
      "<class 'pandas.core.frame.DataFrame'>\n",
      "RangeIndex: 7097 entries, 0 to 7096\n",
      "Data columns (total 11 columns):\n",
      " #   Column                 Non-Null Count  Dtype \n",
      "---  ------                 --------------  ----- \n",
      " 0   sex                    7097 non-null   object\n",
      " 1   class_angina_w7        7097 non-null   object\n",
      " 2   class_arthritis_w7     7097 non-null   object\n",
      " 3   class_cataract_w7      7097 non-null   object\n",
      " 4   class_dementia_w7      7097 non-null   object\n",
      " 5   class_diabetes_w7      7097 non-null   object\n",
      " 6   class_hbp_w7           7097 non-null   object\n",
      " 7   class_heartattack_w7   7097 non-null   object\n",
      " 8   class_osteoporosis_w7  7097 non-null   object\n",
      " 9   class_parkinsons_w7    7097 non-null   object\n",
      " 10  class_stroke_w7        7097 non-null   object\n",
      "dtypes: object(11)\n",
      "memory usage: 610.0+ KB\n"
     ]
    }
   ],
   "source": [
    "w7_columns_nurse = df_nurse.filter(regex='w7|sex|idauniq')\n",
    "nurse = df_nurse[w7_columns_nurse.columns]\n",
    "nurse.info()"
   ]
  },
  {
   "attachments": {},
   "cell_type": "markdown",
   "metadata": {},
   "source": [
    "<h1>Análise Exploratória</h1>"
   ]
  },
  {
   "cell_type": "code",
   "execution_count": 5,
   "metadata": {},
   "outputs": [
    {
     "data": {
      "text/plain": [
       "[idauniq                  False\n",
       " indager_w7               False\n",
       " sex                      False\n",
       " cesd_w7                  False\n",
       " cfmetm_w7                False\n",
       " cfmetper_w7              False\n",
       " dicdnf_w7                False\n",
       " dicdnm_w7                False\n",
       " heacta_w7                False\n",
       " heactb_w7                False\n",
       " heactc_w7                False\n",
       " headlno_w7               False\n",
       " headlX-of-6_w7           False\n",
       " heam_w7                  False\n",
       " hecanaa_w7               False\n",
       " hecanb_w7                False\n",
       " hechm_w7                 False\n",
       " hefrac_w7                False\n",
       " hehelf_w7                False\n",
       " heiadlX-of-9_w7          False\n",
       " heill_w7                 False\n",
       " heji_w7                  False\n",
       " helng_w7                 False\n",
       " hemobno_w7               False\n",
       " hemobX-of-10_w7          False\n",
       " hepaa_w7                 False\n",
       " hepain_w7                False\n",
       " hepawX-of-7_w7           False\n",
       " hepsyX-of-9_w7           False\n",
       " heyrc_w7                 False\n",
       " scako_w7                 False\n",
       " smokerstat_w7            False\n",
       " class_heartattack_w7     False\n",
       " class_angina_w7          False\n",
       " class_stroke_w7          False\n",
       " class_diabetes_w7        False\n",
       " class_diabetes_w8        False\n",
       " class_hbp_w7             False\n",
       " class_dementia_w7        False\n",
       " class_cataract_w7        False\n",
       " class_arthritis_w7       False\n",
       " class_osteoporosis_w7    False\n",
       " class_parkinsons_w7      False\n",
       " dtype: bool]"
      ]
     },
     "metadata": {},
     "output_type": "display_data"
    }
   ],
   "source": [
    "display([core.isna().sum() != 0])"
   ]
  },
  {
   "cell_type": "code",
   "execution_count": 6,
   "metadata": {},
   "outputs": [
    {
     "data": {
      "text/plain": [
       "[sex                      False\n",
       " class_angina_w7          False\n",
       " class_arthritis_w7       False\n",
       " class_cataract_w7        False\n",
       " class_dementia_w7        False\n",
       " class_diabetes_w7        False\n",
       " class_hbp_w7             False\n",
       " class_heartattack_w7     False\n",
       " class_osteoporosis_w7    False\n",
       " class_parkinsons_w7      False\n",
       " class_stroke_w7          False\n",
       " dtype: bool]"
      ]
     },
     "metadata": {},
     "output_type": "display_data"
    }
   ],
   "source": [
    "display([nurse.isna().sum() != 0])"
   ]
  },
  {
   "cell_type": "code",
   "execution_count": 7,
   "metadata": {},
   "outputs": [
    {
     "data": {
      "text/plain": [
       "<AxesSubplot: >"
      ]
     },
     "execution_count": 7,
     "metadata": {},
     "output_type": "execute_result"
    },
    {
     "data": {
      "image/png": "[encoded data removed]",
      "text/plain": [
       "<Figure size 640x480 with 1 Axes>"
      ]
     },
     "metadata": {},
     "output_type": "display_data"
    }
   ],
   "source": [
    "core['cesd_w7'].plot(kind='box')"
   ]
  },
  {
   "cell_type": "code",
   "execution_count": 9,
   "metadata": {},
   "outputs": [
    {
     "data": {
      "text/plain": [
       "Index(['idauniq', 'indager_w7', 'sex', 'cesd_w7', 'cfmetm_w7', 'cfmetper_w7',\n",
       "       'dicdnf_w7', 'dicdnm_w7', 'heacta_w7', 'heactb_w7', 'heactc_w7',\n",
       "       'headlno_w7', 'headlX-of-6_w7', 'heam_w7', 'hecanaa_w7', 'hecanb_w7',\n",
       "       'hechm_w7', 'hefrac_w7', 'hehelf_w7', 'heiadlX-of-9_w7', 'heill_w7',\n",
       "       'heji_w7', 'helng_w7', 'hemobno_w7', 'hemobX-of-10_w7', 'hepaa_w7',\n",
       "       'hepain_w7', 'hepawX-of-7_w7', 'hepsyX-of-9_w7', 'heyrc_w7', 'scako_w7',\n",
       "       'smokerstat_w7', 'class_heartattack_w7', 'class_angina_w7',\n",
       "       'class_stroke_w7', 'class_diabetes_w7', 'class_diabetes_w8',\n",
       "       'class_hbp_w7', 'class_dementia_w7', 'class_cataract_w7',\n",
       "       'class_arthritis_w7', 'class_osteoporosis_w7', 'class_parkinsons_w7'],\n",
       "      dtype='object')"
      ]
     },
     "execution_count": 9,
     "metadata": {},
     "output_type": "execute_result"
    }
   ],
   "source": [
    "core.columns"
   ]
  }
 ],
 "metadata": {
  "kernelspec": {
   "display_name": "Python 3",
   "language": "python",
   "name": "python3"
  },
  "language_info": {
   "codemirror_mode": {
    "name": "ipython",
    "version": 3
   },
   "file_extension": ".py",
   "mimetype": "text/x-python",
   "name": "python",
   "nbconvert_exporter": "python",
   "pygments_lexer": "ipython3",
   "version": "3.10.3"
  },
  "orig_nbformat": 4
 },
 "nbformat": 4,
 "nbformat_minor": 2
}
