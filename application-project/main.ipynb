{
 "cells": [
  {
   "cell_type": "code",
   "execution_count": 16,
   "metadata": {},
   "outputs": [],
   "source": [
    "import pandas as pd\n",
    "from scipy.io import arff\n"
   ]
  },
  {
   "cell_type": "code",
   "execution_count": 18,
   "metadata": {},
   "outputs": [],
   "source": [
    "data1 = arff.loadarff('data/Elsa_Core.arff')\n",
    "data2 = arff.loadarff('data/Elsa_Nurse.arff')\n",
    "df_core = pd.DataFrame(data1[0])\n",
    "df_nurse = pd.DataFrame(data2[0])\n",
    "\n"
   ]
  },
  {
   "cell_type": "code",
   "execution_count": 20,
   "metadata": {},
   "outputs": [
    {
     "data": {
      "text/plain": [
       "idauniq                8405\n",
       "indager_w1             8405\n",
       "indager_w2             8405\n",
       "indager_w3             8405\n",
       "indager_w4             8405\n",
       "                       ... \n",
       "class_parkinsons_w4    8405\n",
       "class_parkinsons_w5    8405\n",
       "class_parkinsons_w6    8405\n",
       "class_parkinsons_w7    8405\n",
       "class_parkinsons_w8    8405\n",
       "Length: 239, dtype: int64"
      ]
     },
     "execution_count": 20,
     "metadata": {},
     "output_type": "execute_result"
    }
   ],
   "source": [
    "df_core[]"
   ]
  }
 ],
 "metadata": {
  "kernelspec": {
   "display_name": "Python 3",
   "language": "python",
   "name": "python3"
  },
  "language_info": {
   "codemirror_mode": {
    "name": "ipython",
    "version": 3
   },
   "file_extension": ".py",
   "mimetype": "text/x-python",
   "name": "python",
   "nbconvert_exporter": "python",
   "pygments_lexer": "ipython3",
   "version": "3.10.3"
  },
  "orig_nbformat": 4
 },
 "nbformat": 4,
 "nbformat_minor": 2
}
