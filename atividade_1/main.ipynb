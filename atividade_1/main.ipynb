{
 "cells": [
  {
   "cell_type": "code",
   "execution_count": 6,
   "metadata": {},
   "outputs": [],
   "source": [
    "import pandas as pd\n",
    "import seaborn as sn\n",
    "import matplotlib.pyplot as plt"
   ]
  },
  {
   "cell_type": "code",
   "execution_count": 5,
   "metadata": {
    "vscode": {
     "languageId": "html"
    }
   },
   "outputs": [
    {
     "ename": "SyntaxError",
     "evalue": "invalid syntax (406684296.py, line 1)",
     "output_type": "error",
     "traceback": [
      "\u001b[1;36m  Cell \u001b[1;32mIn[5], line 1\u001b[1;36m\u001b[0m\n\u001b[1;33m    <h1>Ler um arquivo CSV com um conjunto de dados</h1>\u001b[0m\n\u001b[1;37m    ^\u001b[0m\n\u001b[1;31mSyntaxError\u001b[0m\u001b[1;31m:\u001b[0m invalid syntax\n"
     ]
    }
   ],
   "source": [
    "<h1>Ler um arquivo CSV com um conjunto de dados</h1>"
   ]
  },
  {
   "cell_type": "code",
   "execution_count": 7,
   "metadata": {},
   "outputs": [
    {
     "data": {
      "text/html": [
       "<div>\n",
       "<style scoped>\n",
       "    .dataframe tbody tr th:only-of-type {\n",
       "        vertical-align: middle;\n",
       "    }\n",
       "\n",
       "    .dataframe tbody tr th {\n",
       "        vertical-align: top;\n",
       "    }\n",
       "\n",
       "    .dataframe thead th {\n",
       "        text-align: right;\n",
       "    }\n",
       "</style>\n",
       "<table border=\"1\" class=\"dataframe\">\n",
       "  <thead>\n",
       "    <tr style=\"text-align: right;\">\n",
       "      <th></th>\n",
       "      <th>Unnamed: 0</th>\n",
       "      <th>mean radius</th>\n",
       "      <th>mean texture</th>\n",
       "      <th>mean perimeter</th>\n",
       "      <th>mean area</th>\n",
       "      <th>mean smoothness</th>\n",
       "      <th>mean compactness</th>\n",
       "      <th>mean concavity</th>\n",
       "      <th>mean concave points</th>\n",
       "      <th>mean symmetry</th>\n",
       "      <th>...</th>\n",
       "      <th>worst perimeter</th>\n",
       "      <th>worst area</th>\n",
       "      <th>worst smoothness</th>\n",
       "      <th>worst compactness</th>\n",
       "      <th>worst concavity</th>\n",
       "      <th>worst concave points</th>\n",
       "      <th>worst symmetry</th>\n",
       "      <th>worst fractal dimension</th>\n",
       "      <th>target</th>\n",
       "      <th>diagnosis</th>\n",
       "    </tr>\n",
       "  </thead>\n",
       "  <tbody>\n",
       "    <tr>\n",
       "      <th>0</th>\n",
       "      <td>0</td>\n",
       "      <td>17.99</td>\n",
       "      <td>10.38</td>\n",
       "      <td>122.80</td>\n",
       "      <td>1001.0</td>\n",
       "      <td>0.11840</td>\n",
       "      <td>0.27760</td>\n",
       "      <td>0.3001</td>\n",
       "      <td>0.14710</td>\n",
       "      <td>0.2419</td>\n",
       "      <td>...</td>\n",
       "      <td>184.60</td>\n",
       "      <td>2019.0</td>\n",
       "      <td>0.1622</td>\n",
       "      <td>0.6656</td>\n",
       "      <td>0.7119</td>\n",
       "      <td>0.2654</td>\n",
       "      <td>0.4601</td>\n",
       "      <td>0.11890</td>\n",
       "      <td>0</td>\n",
       "      <td>malignant</td>\n",
       "    </tr>\n",
       "    <tr>\n",
       "      <th>1</th>\n",
       "      <td>1</td>\n",
       "      <td>20.57</td>\n",
       "      <td>17.77</td>\n",
       "      <td>132.90</td>\n",
       "      <td>1326.0</td>\n",
       "      <td>0.08474</td>\n",
       "      <td>0.07864</td>\n",
       "      <td>0.0869</td>\n",
       "      <td>0.07017</td>\n",
       "      <td>0.1812</td>\n",
       "      <td>...</td>\n",
       "      <td>158.80</td>\n",
       "      <td>1956.0</td>\n",
       "      <td>0.1238</td>\n",
       "      <td>0.1866</td>\n",
       "      <td>0.2416</td>\n",
       "      <td>0.1860</td>\n",
       "      <td>0.2750</td>\n",
       "      <td>0.08902</td>\n",
       "      <td>0</td>\n",
       "      <td>malignant</td>\n",
       "    </tr>\n",
       "    <tr>\n",
       "      <th>2</th>\n",
       "      <td>2</td>\n",
       "      <td>19.69</td>\n",
       "      <td>21.25</td>\n",
       "      <td>130.00</td>\n",
       "      <td>1203.0</td>\n",
       "      <td>0.10960</td>\n",
       "      <td>0.15990</td>\n",
       "      <td>0.1974</td>\n",
       "      <td>0.12790</td>\n",
       "      <td>0.2069</td>\n",
       "      <td>...</td>\n",
       "      <td>152.50</td>\n",
       "      <td>1709.0</td>\n",
       "      <td>0.1444</td>\n",
       "      <td>0.4245</td>\n",
       "      <td>0.4504</td>\n",
       "      <td>0.2430</td>\n",
       "      <td>0.3613</td>\n",
       "      <td>0.08758</td>\n",
       "      <td>0</td>\n",
       "      <td>malignant</td>\n",
       "    </tr>\n",
       "    <tr>\n",
       "      <th>3</th>\n",
       "      <td>3</td>\n",
       "      <td>11.42</td>\n",
       "      <td>20.38</td>\n",
       "      <td>77.58</td>\n",
       "      <td>386.1</td>\n",
       "      <td>0.14250</td>\n",
       "      <td>0.28390</td>\n",
       "      <td>0.2414</td>\n",
       "      <td>0.10520</td>\n",
       "      <td>0.2597</td>\n",
       "      <td>...</td>\n",
       "      <td>98.87</td>\n",
       "      <td>567.7</td>\n",
       "      <td>0.2098</td>\n",
       "      <td>0.8663</td>\n",
       "      <td>0.6869</td>\n",
       "      <td>0.2575</td>\n",
       "      <td>0.6638</td>\n",
       "      <td>0.17300</td>\n",
       "      <td>0</td>\n",
       "      <td>malignant</td>\n",
       "    </tr>\n",
       "    <tr>\n",
       "      <th>4</th>\n",
       "      <td>4</td>\n",
       "      <td>20.29</td>\n",
       "      <td>14.34</td>\n",
       "      <td>135.10</td>\n",
       "      <td>1297.0</td>\n",
       "      <td>0.10030</td>\n",
       "      <td>0.13280</td>\n",
       "      <td>0.1980</td>\n",
       "      <td>0.10430</td>\n",
       "      <td>0.1809</td>\n",
       "      <td>...</td>\n",
       "      <td>152.20</td>\n",
       "      <td>1575.0</td>\n",
       "      <td>0.1374</td>\n",
       "      <td>0.2050</td>\n",
       "      <td>0.4000</td>\n",
       "      <td>0.1625</td>\n",
       "      <td>0.2364</td>\n",
       "      <td>0.07678</td>\n",
       "      <td>0</td>\n",
       "      <td>malignant</td>\n",
       "    </tr>\n",
       "  </tbody>\n",
       "</table>\n",
       "<p>5 rows × 33 columns</p>\n",
       "</div>"
      ],
      "text/plain": [
       "   Unnamed: 0  mean radius  mean texture  mean perimeter  mean area  \\\n",
       "0           0        17.99         10.38          122.80     1001.0   \n",
       "1           1        20.57         17.77          132.90     1326.0   \n",
       "2           2        19.69         21.25          130.00     1203.0   \n",
       "3           3        11.42         20.38           77.58      386.1   \n",
       "4           4        20.29         14.34          135.10     1297.0   \n",
       "\n",
       "   mean smoothness  mean compactness  mean concavity  mean concave points  \\\n",
       "0          0.11840           0.27760          0.3001              0.14710   \n",
       "1          0.08474           0.07864          0.0869              0.07017   \n",
       "2          0.10960           0.15990          0.1974              0.12790   \n",
       "3          0.14250           0.28390          0.2414              0.10520   \n",
       "4          0.10030           0.13280          0.1980              0.10430   \n",
       "\n",
       "   mean symmetry  ...  worst perimeter  worst area  worst smoothness  \\\n",
       "0         0.2419  ...           184.60      2019.0            0.1622   \n",
       "1         0.1812  ...           158.80      1956.0            0.1238   \n",
       "2         0.2069  ...           152.50      1709.0            0.1444   \n",
       "3         0.2597  ...            98.87       567.7            0.2098   \n",
       "4         0.1809  ...           152.20      1575.0            0.1374   \n",
       "\n",
       "   worst compactness  worst concavity  worst concave points  worst symmetry  \\\n",
       "0             0.6656           0.7119                0.2654          0.4601   \n",
       "1             0.1866           0.2416                0.1860          0.2750   \n",
       "2             0.4245           0.4504                0.2430          0.3613   \n",
       "3             0.8663           0.6869                0.2575          0.6638   \n",
       "4             0.2050           0.4000                0.1625          0.2364   \n",
       "\n",
       "   worst fractal dimension  target  diagnosis  \n",
       "0                  0.11890       0  malignant  \n",
       "1                  0.08902       0  malignant  \n",
       "2                  0.08758       0  malignant  \n",
       "3                  0.17300       0  malignant  \n",
       "4                  0.07678       0  malignant  \n",
       "\n",
       "[5 rows x 33 columns]"
      ]
     },
     "execution_count": 7,
     "metadata": {},
     "output_type": "execute_result"
    }
   ],
   "source": [
    "df = pd.read_csv('breast_cancer.csv', sep=',')\n",
    "df.head()"
   ]
  },
  {
   "cell_type": "code",
   "execution_count": null,
   "metadata": {
    "vscode": {
     "languageId": "html"
    }
   },
   "outputs": [],
   "source": [
    "<h2>Exibir gráfico de histograma de cada variável</h2>"
   ]
  },
  {
   "cell_type": "code",
   "execution_count": null,
   "metadata": {},
   "outputs": [],
   "source": [
    "colunas = list(df.columns)[1:]\n",
    "for var in colunas:\n",
    "    plot = sn.displot(df[var])\n",
    "    plt.show()  \n"
   ]
  },
  {
   "cell_type": "code",
   "execution_count": null,
   "metadata": {},
   "outputs": [
    {
     "ename": "KeyboardInterrupt",
     "evalue": "",
     "output_type": "error",
     "traceback": [
      "\u001b[1;31m---------------------------------------------------------------------------\u001b[0m",
      "\u001b[1;31mKeyboardInterrupt\u001b[0m                         Traceback (most recent call last)",
      "Cell \u001b[1;32mIn[25], line 1\u001b[0m\n\u001b[1;32m----> 1\u001b[0m sn\u001b[39m.\u001b[39;49mpairplot(df)\n\u001b[0;32m      2\u001b[0m plt\u001b[39m.\u001b[39mshow()\n",
      "File \u001b[1;32mc:\\Users\\larys\\AppData\\Local\\Programs\\Python\\Python310\\lib\\site-packages\\seaborn\\axisgrid.py:2174\u001b[0m, in \u001b[0;36mpairplot\u001b[1;34m(data, hue, hue_order, palette, vars, x_vars, y_vars, kind, diag_kind, markers, height, aspect, corner, dropna, plot_kws, diag_kws, grid_kws, size)\u001b[0m\n\u001b[0;32m   2171\u001b[0m \u001b[39mif\u001b[39;00m hue \u001b[39mis\u001b[39;00m \u001b[39mnot\u001b[39;00m \u001b[39mNone\u001b[39;00m:\n\u001b[0;32m   2172\u001b[0m     grid\u001b[39m.\u001b[39madd_legend()\n\u001b[1;32m-> 2174\u001b[0m grid\u001b[39m.\u001b[39;49mtight_layout()\n\u001b[0;32m   2176\u001b[0m \u001b[39mreturn\u001b[39;00m grid\n",
      "File \u001b[1;32mc:\\Users\\larys\\AppData\\Local\\Programs\\Python\\Python310\\lib\\site-packages\\seaborn\\axisgrid.py:118\u001b[0m, in \u001b[0;36mGrid.tight_layout\u001b[1;34m(self, *args, **kwargs)\u001b[0m\n\u001b[0;32m    116\u001b[0m \u001b[39mif\u001b[39;00m \u001b[39mself\u001b[39m\u001b[39m.\u001b[39m_tight_layout_pad \u001b[39mis\u001b[39;00m \u001b[39mnot\u001b[39;00m \u001b[39mNone\u001b[39;00m:\n\u001b[0;32m    117\u001b[0m     kwargs\u001b[39m.\u001b[39msetdefault(\u001b[39m\"\u001b[39m\u001b[39mpad\u001b[39m\u001b[39m\"\u001b[39m, \u001b[39mself\u001b[39m\u001b[39m.\u001b[39m_tight_layout_pad)\n\u001b[1;32m--> 118\u001b[0m \u001b[39mself\u001b[39m\u001b[39m.\u001b[39m_figure\u001b[39m.\u001b[39mtight_layout(\u001b[39m*\u001b[39margs, \u001b[39m*\u001b[39m\u001b[39m*\u001b[39mkwargs)\n\u001b[0;32m    119\u001b[0m \u001b[39mreturn\u001b[39;00m \u001b[39mself\u001b[39m\n",
      "File \u001b[1;32mc:\\Users\\larys\\AppData\\Local\\Programs\\Python\\Python310\\lib\\site-packages\\matplotlib\\figure.py:3450\u001b[0m, in \u001b[0;36mFigure.tight_layout\u001b[1;34m(self, pad, h_pad, w_pad, rect)\u001b[0m\n\u001b[0;32m   3448\u001b[0m \u001b[39mtry\u001b[39;00m:\n\u001b[0;32m   3449\u001b[0m     \u001b[39mself\u001b[39m\u001b[39m.\u001b[39mset_layout_engine(engine)\n\u001b[1;32m-> 3450\u001b[0m     engine\u001b[39m.\u001b[39;49mexecute(\u001b[39mself\u001b[39;49m)\n\u001b[0;32m   3451\u001b[0m \u001b[39mfinally\u001b[39;00m:\n\u001b[0;32m   3452\u001b[0m     \u001b[39mself\u001b[39m\u001b[39m.\u001b[39mset_layout_engine(\u001b[39mNone\u001b[39;00m)\n",
      "File \u001b[1;32mc:\\Users\\larys\\AppData\\Local\\Programs\\Python\\Python310\\lib\\site-packages\\matplotlib\\layout_engine.py:175\u001b[0m, in \u001b[0;36mTightLayoutEngine.execute\u001b[1;34m(self, fig)\u001b[0m\n\u001b[0;32m    173\u001b[0m renderer \u001b[39m=\u001b[39m fig\u001b[39m.\u001b[39m_get_renderer()\n\u001b[0;32m    174\u001b[0m \u001b[39mwith\u001b[39;00m \u001b[39mgetattr\u001b[39m(renderer, \u001b[39m\"\u001b[39m\u001b[39m_draw_disabled\u001b[39m\u001b[39m\"\u001b[39m, nullcontext)():\n\u001b[1;32m--> 175\u001b[0m     kwargs \u001b[39m=\u001b[39m get_tight_layout_figure(\n\u001b[0;32m    176\u001b[0m         fig, fig\u001b[39m.\u001b[39;49maxes, get_subplotspec_list(fig\u001b[39m.\u001b[39;49maxes), renderer,\n\u001b[0;32m    177\u001b[0m         pad\u001b[39m=\u001b[39;49minfo[\u001b[39m'\u001b[39;49m\u001b[39mpad\u001b[39;49m\u001b[39m'\u001b[39;49m], h_pad\u001b[39m=\u001b[39;49minfo[\u001b[39m'\u001b[39;49m\u001b[39mh_pad\u001b[39;49m\u001b[39m'\u001b[39;49m], w_pad\u001b[39m=\u001b[39;49minfo[\u001b[39m'\u001b[39;49m\u001b[39mw_pad\u001b[39;49m\u001b[39m'\u001b[39;49m],\n\u001b[0;32m    178\u001b[0m         rect\u001b[39m=\u001b[39;49minfo[\u001b[39m'\u001b[39;49m\u001b[39mrect\u001b[39;49m\u001b[39m'\u001b[39;49m])\n\u001b[0;32m    179\u001b[0m \u001b[39mif\u001b[39;00m kwargs:\n\u001b[0;32m    180\u001b[0m     fig\u001b[39m.\u001b[39msubplots_adjust(\u001b[39m*\u001b[39m\u001b[39m*\u001b[39mkwargs)\n",
      "File \u001b[1;32mc:\\Users\\larys\\AppData\\Local\\Programs\\Python\\Python310\\lib\\site-packages\\matplotlib\\_tight_layout.py:308\u001b[0m, in \u001b[0;36mget_tight_layout_figure\u001b[1;34m(fig, axes_list, subplotspec_list, renderer, pad, h_pad, w_pad, rect)\u001b[0m\n\u001b[0;32m    303\u001b[0m         \u001b[39mreturn\u001b[39;00m {}\n\u001b[0;32m    304\u001b[0m     span_pairs\u001b[39m.\u001b[39mappend((\n\u001b[0;32m    305\u001b[0m         \u001b[39mslice\u001b[39m(ss\u001b[39m.\u001b[39mrowspan\u001b[39m.\u001b[39mstart \u001b[39m*\u001b[39m div_row, ss\u001b[39m.\u001b[39mrowspan\u001b[39m.\u001b[39mstop \u001b[39m*\u001b[39m div_row),\n\u001b[0;32m    306\u001b[0m         \u001b[39mslice\u001b[39m(ss\u001b[39m.\u001b[39mcolspan\u001b[39m.\u001b[39mstart \u001b[39m*\u001b[39m div_col, ss\u001b[39m.\u001b[39mcolspan\u001b[39m.\u001b[39mstop \u001b[39m*\u001b[39m div_col)))\n\u001b[1;32m--> 308\u001b[0m kwargs \u001b[39m=\u001b[39m _auto_adjust_subplotpars(fig, renderer,\n\u001b[0;32m    309\u001b[0m                                   shape\u001b[39m=\u001b[39;49m(max_nrows, max_ncols),\n\u001b[0;32m    310\u001b[0m                                   span_pairs\u001b[39m=\u001b[39;49mspan_pairs,\n\u001b[0;32m    311\u001b[0m                                   subplot_list\u001b[39m=\u001b[39;49msubplot_list,\n\u001b[0;32m    312\u001b[0m                                   ax_bbox_list\u001b[39m=\u001b[39;49max_bbox_list,\n\u001b[0;32m    313\u001b[0m                                   pad\u001b[39m=\u001b[39;49mpad, h_pad\u001b[39m=\u001b[39;49mh_pad, w_pad\u001b[39m=\u001b[39;49mw_pad)\n\u001b[0;32m    315\u001b[0m \u001b[39m# kwargs can be none if tight_layout fails...\u001b[39;00m\n\u001b[0;32m    316\u001b[0m \u001b[39mif\u001b[39;00m rect \u001b[39mis\u001b[39;00m \u001b[39mnot\u001b[39;00m \u001b[39mNone\u001b[39;00m \u001b[39mand\u001b[39;00m kwargs \u001b[39mis\u001b[39;00m \u001b[39mnot\u001b[39;00m \u001b[39mNone\u001b[39;00m:\n\u001b[0;32m    317\u001b[0m     \u001b[39m# if rect is given, the whole subplots area (including\u001b[39;00m\n\u001b[0;32m    318\u001b[0m     \u001b[39m# labels) will fit into the rect instead of the\u001b[39;00m\n\u001b[1;32m   (...)\u001b[0m\n\u001b[0;32m    322\u001b[0m     \u001b[39m# auto_adjust_subplotpars twice, where the second run\u001b[39;00m\n\u001b[0;32m    323\u001b[0m     \u001b[39m# with adjusted rect parameters.\u001b[39;00m\n",
      "File \u001b[1;32mc:\\Users\\larys\\AppData\\Local\\Programs\\Python\\Python310\\lib\\site-packages\\matplotlib\\_tight_layout.py:82\u001b[0m, in \u001b[0;36m_auto_adjust_subplotpars\u001b[1;34m(fig, renderer, shape, span_pairs, subplot_list, ax_bbox_list, pad, h_pad, w_pad, rect)\u001b[0m\n\u001b[0;32m     80\u001b[0m \u001b[39mfor\u001b[39;00m ax \u001b[39min\u001b[39;00m subplots:\n\u001b[0;32m     81\u001b[0m     \u001b[39mif\u001b[39;00m ax\u001b[39m.\u001b[39mget_visible():\n\u001b[1;32m---> 82\u001b[0m         bb \u001b[39m+\u001b[39m\u001b[39m=\u001b[39m [martist\u001b[39m.\u001b[39;49m_get_tightbbox_for_layout_only(ax, renderer)]\n\u001b[0;32m     84\u001b[0m tight_bbox_raw \u001b[39m=\u001b[39m Bbox\u001b[39m.\u001b[39munion(bb)\n\u001b[0;32m     85\u001b[0m tight_bbox \u001b[39m=\u001b[39m fig\u001b[39m.\u001b[39mtransFigure\u001b[39m.\u001b[39minverted()\u001b[39m.\u001b[39mtransform_bbox(tight_bbox_raw)\n",
      "File \u001b[1;32mc:\\Users\\larys\\AppData\\Local\\Programs\\Python\\Python310\\lib\\site-packages\\matplotlib\\artist.py:1378\u001b[0m, in \u001b[0;36m_get_tightbbox_for_layout_only\u001b[1;34m(obj, *args, **kwargs)\u001b[0m\n\u001b[0;32m   1372\u001b[0m \u001b[39m\u001b[39m\u001b[39m\"\"\"\u001b[39;00m\n\u001b[0;32m   1373\u001b[0m \u001b[39mMatplotlib's `.Axes.get_tightbbox` and `.Axis.get_tightbbox` support a\u001b[39;00m\n\u001b[0;32m   1374\u001b[0m \u001b[39m*for_layout_only* kwarg; this helper tries to use the kwarg but skips it\u001b[39;00m\n\u001b[0;32m   1375\u001b[0m \u001b[39mwhen encountering third-party subclasses that do not support it.\u001b[39;00m\n\u001b[0;32m   1376\u001b[0m \u001b[39m\"\"\"\u001b[39;00m\n\u001b[0;32m   1377\u001b[0m \u001b[39mtry\u001b[39;00m:\n\u001b[1;32m-> 1378\u001b[0m     \u001b[39mreturn\u001b[39;00m obj\u001b[39m.\u001b[39mget_tightbbox(\u001b[39m*\u001b[39margs, \u001b[39m*\u001b[39m\u001b[39m*\u001b[39m{\u001b[39m*\u001b[39m\u001b[39m*\u001b[39mkwargs, \u001b[39m\"\u001b[39m\u001b[39mfor_layout_only\u001b[39m\u001b[39m\"\u001b[39m: \u001b[39mTrue\u001b[39;00m})\n\u001b[0;32m   1379\u001b[0m \u001b[39mexcept\u001b[39;00m \u001b[39mTypeError\u001b[39;00m:\n\u001b[0;32m   1380\u001b[0m     \u001b[39mreturn\u001b[39;00m obj\u001b[39m.\u001b[39mget_tightbbox(\u001b[39m*\u001b[39margs, \u001b[39m*\u001b[39m\u001b[39m*\u001b[39mkwargs)\n",
      "File \u001b[1;32mc:\\Users\\larys\\AppData\\Local\\Programs\\Python\\Python310\\lib\\site-packages\\matplotlib\\axes\\_base.py:4421\u001b[0m, in \u001b[0;36m_AxesBase.get_tightbbox\u001b[1;34m(self, renderer, call_axes_locator, bbox_extra_artists, for_layout_only)\u001b[0m\n\u001b[0;32m   4419\u001b[0m \u001b[39mfor\u001b[39;00m axis \u001b[39min\u001b[39;00m \u001b[39mself\u001b[39m\u001b[39m.\u001b[39m_axis_map\u001b[39m.\u001b[39mvalues():\n\u001b[0;32m   4420\u001b[0m     \u001b[39mif\u001b[39;00m \u001b[39mself\u001b[39m\u001b[39m.\u001b[39maxison \u001b[39mand\u001b[39;00m axis\u001b[39m.\u001b[39mget_visible():\n\u001b[1;32m-> 4421\u001b[0m         ba \u001b[39m=\u001b[39m martist\u001b[39m.\u001b[39;49m_get_tightbbox_for_layout_only(axis, renderer)\n\u001b[0;32m   4422\u001b[0m         \u001b[39mif\u001b[39;00m ba:\n\u001b[0;32m   4423\u001b[0m             bb\u001b[39m.\u001b[39mappend(ba)\n",
      "File \u001b[1;32mc:\\Users\\larys\\AppData\\Local\\Programs\\Python\\Python310\\lib\\site-packages\\matplotlib\\artist.py:1378\u001b[0m, in \u001b[0;36m_get_tightbbox_for_layout_only\u001b[1;34m(obj, *args, **kwargs)\u001b[0m\n\u001b[0;32m   1372\u001b[0m \u001b[39m\u001b[39m\u001b[39m\"\"\"\u001b[39;00m\n\u001b[0;32m   1373\u001b[0m \u001b[39mMatplotlib's `.Axes.get_tightbbox` and `.Axis.get_tightbbox` support a\u001b[39;00m\n\u001b[0;32m   1374\u001b[0m \u001b[39m*for_layout_only* kwarg; this helper tries to use the kwarg but skips it\u001b[39;00m\n\u001b[0;32m   1375\u001b[0m \u001b[39mwhen encountering third-party subclasses that do not support it.\u001b[39;00m\n\u001b[0;32m   1376\u001b[0m \u001b[39m\"\"\"\u001b[39;00m\n\u001b[0;32m   1377\u001b[0m \u001b[39mtry\u001b[39;00m:\n\u001b[1;32m-> 1378\u001b[0m     \u001b[39mreturn\u001b[39;00m obj\u001b[39m.\u001b[39mget_tightbbox(\u001b[39m*\u001b[39margs, \u001b[39m*\u001b[39m\u001b[39m*\u001b[39m{\u001b[39m*\u001b[39m\u001b[39m*\u001b[39mkwargs, \u001b[39m\"\u001b[39m\u001b[39mfor_layout_only\u001b[39m\u001b[39m\"\u001b[39m: \u001b[39mTrue\u001b[39;00m})\n\u001b[0;32m   1379\u001b[0m \u001b[39mexcept\u001b[39;00m \u001b[39mTypeError\u001b[39;00m:\n\u001b[0;32m   1380\u001b[0m     \u001b[39mreturn\u001b[39;00m obj\u001b[39m.\u001b[39mget_tightbbox(\u001b[39m*\u001b[39margs, \u001b[39m*\u001b[39m\u001b[39m*\u001b[39mkwargs)\n",
      "File \u001b[1;32mc:\\Users\\larys\\AppData\\Local\\Programs\\Python\\Python310\\lib\\site-packages\\matplotlib\\axis.py:1253\u001b[0m, in \u001b[0;36mAxis.get_tightbbox\u001b[1;34m(self, renderer, for_layout_only)\u001b[0m\n\u001b[0;32m   1250\u001b[0m     renderer \u001b[39m=\u001b[39m \u001b[39mself\u001b[39m\u001b[39m.\u001b[39mfigure\u001b[39m.\u001b[39m_get_renderer()\n\u001b[0;32m   1251\u001b[0m ticks_to_draw \u001b[39m=\u001b[39m \u001b[39mself\u001b[39m\u001b[39m.\u001b[39m_update_ticks()\n\u001b[1;32m-> 1253\u001b[0m \u001b[39mself\u001b[39;49m\u001b[39m.\u001b[39;49m_update_label_position(renderer)\n\u001b[0;32m   1255\u001b[0m \u001b[39m# go back to just this axis's tick labels\u001b[39;00m\n\u001b[0;32m   1256\u001b[0m tlb1, tlb2 \u001b[39m=\u001b[39m \u001b[39mself\u001b[39m\u001b[39m.\u001b[39m_get_ticklabel_bboxes(ticks_to_draw, renderer)\n",
      "File \u001b[1;32mc:\\Users\\larys\\AppData\\Local\\Programs\\Python\\Python310\\lib\\site-packages\\matplotlib\\axis.py:2252\u001b[0m, in \u001b[0;36mXAxis._update_label_position\u001b[1;34m(self, renderer)\u001b[0m\n\u001b[0;32m   2248\u001b[0m     \u001b[39mreturn\u001b[39;00m\n\u001b[0;32m   2250\u001b[0m \u001b[39m# get bounding boxes for this axis and any siblings\u001b[39;00m\n\u001b[0;32m   2251\u001b[0m \u001b[39m# that have been set by `fig.align_xlabels()`\u001b[39;00m\n\u001b[1;32m-> 2252\u001b[0m bboxes, bboxes2 \u001b[39m=\u001b[39m \u001b[39mself\u001b[39;49m\u001b[39m.\u001b[39;49m_get_tick_boxes_siblings(renderer\u001b[39m=\u001b[39;49mrenderer)\n\u001b[0;32m   2254\u001b[0m x, y \u001b[39m=\u001b[39m \u001b[39mself\u001b[39m\u001b[39m.\u001b[39mlabel\u001b[39m.\u001b[39mget_position()\n\u001b[0;32m   2255\u001b[0m \u001b[39mif\u001b[39;00m \u001b[39mself\u001b[39m\u001b[39m.\u001b[39mlabel_position \u001b[39m==\u001b[39m \u001b[39m'\u001b[39m\u001b[39mbottom\u001b[39m\u001b[39m'\u001b[39m:\n",
      "File \u001b[1;32mc:\\Users\\larys\\AppData\\Local\\Programs\\Python\\Python310\\lib\\site-packages\\matplotlib\\axis.py:2055\u001b[0m, in \u001b[0;36mAxis._get_tick_boxes_siblings\u001b[1;34m(self, renderer)\u001b[0m\n\u001b[0;32m   2053\u001b[0m \u001b[39mfor\u001b[39;00m ax \u001b[39min\u001b[39;00m grouper\u001b[39m.\u001b[39mget_siblings(\u001b[39mself\u001b[39m\u001b[39m.\u001b[39maxes):\n\u001b[0;32m   2054\u001b[0m     axis \u001b[39m=\u001b[39m \u001b[39mgetattr\u001b[39m(ax, \u001b[39mf\u001b[39m\u001b[39m\"\u001b[39m\u001b[39m{\u001b[39;00maxis_name\u001b[39m}\u001b[39;00m\u001b[39maxis\u001b[39m\u001b[39m\"\u001b[39m)\n\u001b[1;32m-> 2055\u001b[0m     ticks_to_draw \u001b[39m=\u001b[39m axis\u001b[39m.\u001b[39;49m_update_ticks()\n\u001b[0;32m   2056\u001b[0m     tlb, tlb2 \u001b[39m=\u001b[39m axis\u001b[39m.\u001b[39m_get_ticklabel_bboxes(ticks_to_draw, renderer)\n\u001b[0;32m   2057\u001b[0m     bboxes\u001b[39m.\u001b[39mextend(tlb)\n",
      "File \u001b[1;32mc:\\Users\\larys\\AppData\\Local\\Programs\\Python\\Python310\\lib\\site-packages\\matplotlib\\axis.py:1198\u001b[0m, in \u001b[0;36mAxis._update_ticks\u001b[1;34m(self)\u001b[0m\n\u001b[0;32m   1196\u001b[0m     tick\u001b[39m.\u001b[39mset_label1(label)\n\u001b[0;32m   1197\u001b[0m     tick\u001b[39m.\u001b[39mset_label2(label)\n\u001b[1;32m-> 1198\u001b[0m minor_locs \u001b[39m=\u001b[39m \u001b[39mself\u001b[39;49m\u001b[39m.\u001b[39;49mget_minorticklocs()\n\u001b[0;32m   1199\u001b[0m minor_labels \u001b[39m=\u001b[39m \u001b[39mself\u001b[39m\u001b[39m.\u001b[39mminor\u001b[39m.\u001b[39mformatter\u001b[39m.\u001b[39mformat_ticks(minor_locs)\n\u001b[0;32m   1200\u001b[0m minor_ticks \u001b[39m=\u001b[39m \u001b[39mself\u001b[39m\u001b[39m.\u001b[39mget_minor_ticks(\u001b[39mlen\u001b[39m(minor_locs))\n",
      "File \u001b[1;32mc:\\Users\\larys\\AppData\\Local\\Programs\\Python\\Python310\\lib\\site-packages\\matplotlib\\axis.py:1423\u001b[0m, in \u001b[0;36mAxis.get_minorticklocs\u001b[1;34m(self)\u001b[0m\n\u001b[0;32m   1421\u001b[0m minor_locs \u001b[39m=\u001b[39m np\u001b[39m.\u001b[39masarray(\u001b[39mself\u001b[39m\u001b[39m.\u001b[39mminor\u001b[39m.\u001b[39mlocator())\n\u001b[0;32m   1422\u001b[0m \u001b[39mif\u001b[39;00m \u001b[39mself\u001b[39m\u001b[39m.\u001b[39mremove_overlapping_locs:\n\u001b[1;32m-> 1423\u001b[0m     major_locs \u001b[39m=\u001b[39m \u001b[39mself\u001b[39;49m\u001b[39m.\u001b[39;49mmajor\u001b[39m.\u001b[39;49mlocator()\n\u001b[0;32m   1424\u001b[0m     transform \u001b[39m=\u001b[39m \u001b[39mself\u001b[39m\u001b[39m.\u001b[39m_scale\u001b[39m.\u001b[39mget_transform()\n\u001b[0;32m   1425\u001b[0m     tr_minor_locs \u001b[39m=\u001b[39m transform\u001b[39m.\u001b[39mtransform(minor_locs)\n",
      "File \u001b[1;32mc:\\Users\\larys\\AppData\\Local\\Programs\\Python\\Python310\\lib\\site-packages\\matplotlib\\ticker.py:2143\u001b[0m, in \u001b[0;36mMaxNLocator.__call__\u001b[1;34m(self)\u001b[0m\n\u001b[0;32m   2141\u001b[0m \u001b[39mdef\u001b[39;00m \u001b[39m__call__\u001b[39m(\u001b[39mself\u001b[39m):\n\u001b[0;32m   2142\u001b[0m     vmin, vmax \u001b[39m=\u001b[39m \u001b[39mself\u001b[39m\u001b[39m.\u001b[39maxis\u001b[39m.\u001b[39mget_view_interval()\n\u001b[1;32m-> 2143\u001b[0m     \u001b[39mreturn\u001b[39;00m \u001b[39mself\u001b[39;49m\u001b[39m.\u001b[39;49mtick_values(vmin, vmax)\n",
      "File \u001b[1;32mc:\\Users\\larys\\AppData\\Local\\Programs\\Python\\Python310\\lib\\site-packages\\matplotlib\\ticker.py:2151\u001b[0m, in \u001b[0;36mMaxNLocator.tick_values\u001b[1;34m(self, vmin, vmax)\u001b[0m\n\u001b[0;32m   2148\u001b[0m     vmin \u001b[39m=\u001b[39m \u001b[39m-\u001b[39mvmax\n\u001b[0;32m   2149\u001b[0m vmin, vmax \u001b[39m=\u001b[39m mtransforms\u001b[39m.\u001b[39mnonsingular(\n\u001b[0;32m   2150\u001b[0m     vmin, vmax, expander\u001b[39m=\u001b[39m\u001b[39m1e-13\u001b[39m, tiny\u001b[39m=\u001b[39m\u001b[39m1e-14\u001b[39m)\n\u001b[1;32m-> 2151\u001b[0m locs \u001b[39m=\u001b[39m \u001b[39mself\u001b[39;49m\u001b[39m.\u001b[39;49m_raw_ticks(vmin, vmax)\n\u001b[0;32m   2153\u001b[0m prune \u001b[39m=\u001b[39m \u001b[39mself\u001b[39m\u001b[39m.\u001b[39m_prune\n\u001b[0;32m   2154\u001b[0m \u001b[39mif\u001b[39;00m prune \u001b[39m==\u001b[39m \u001b[39m'\u001b[39m\u001b[39mlower\u001b[39m\u001b[39m'\u001b[39m:\n",
      "File \u001b[1;32mc:\\Users\\larys\\AppData\\Local\\Programs\\Python\\Python310\\lib\\site-packages\\matplotlib\\ticker.py:2090\u001b[0m, in \u001b[0;36mMaxNLocator._raw_ticks\u001b[1;34m(self, vmin, vmax)\u001b[0m\n\u001b[0;32m   2088\u001b[0m \u001b[39mif\u001b[39;00m \u001b[39mself\u001b[39m\u001b[39m.\u001b[39m_nbins \u001b[39m==\u001b[39m \u001b[39m'\u001b[39m\u001b[39mauto\u001b[39m\u001b[39m'\u001b[39m:\n\u001b[0;32m   2089\u001b[0m     \u001b[39mif\u001b[39;00m \u001b[39mself\u001b[39m\u001b[39m.\u001b[39maxis \u001b[39mis\u001b[39;00m \u001b[39mnot\u001b[39;00m \u001b[39mNone\u001b[39;00m:\n\u001b[1;32m-> 2090\u001b[0m         nbins \u001b[39m=\u001b[39m np\u001b[39m.\u001b[39mclip(\u001b[39mself\u001b[39;49m\u001b[39m.\u001b[39;49maxis\u001b[39m.\u001b[39;49mget_tick_space(),\n\u001b[0;32m   2091\u001b[0m                         \u001b[39mmax\u001b[39m(\u001b[39m1\u001b[39m, \u001b[39mself\u001b[39m\u001b[39m.\u001b[39m_min_n_ticks \u001b[39m-\u001b[39m \u001b[39m1\u001b[39m), \u001b[39m9\u001b[39m)\n\u001b[0;32m   2092\u001b[0m     \u001b[39melse\u001b[39;00m:\n\u001b[0;32m   2093\u001b[0m         nbins \u001b[39m=\u001b[39m \u001b[39m9\u001b[39m\n",
      "File \u001b[1;32mc:\\Users\\larys\\AppData\\Local\\Programs\\Python\\Python310\\lib\\site-packages\\matplotlib\\axis.py:2423\u001b[0m, in \u001b[0;36mXAxis.get_tick_space\u001b[1;34m(self)\u001b[0m\n\u001b[0;32m   2422\u001b[0m \u001b[39mdef\u001b[39;00m \u001b[39mget_tick_space\u001b[39m(\u001b[39mself\u001b[39m):\n\u001b[1;32m-> 2423\u001b[0m     ends \u001b[39m=\u001b[39m mtransforms\u001b[39m.\u001b[39;49mBbox\u001b[39m.\u001b[39;49munit()\u001b[39m.\u001b[39mtransformed(\n\u001b[0;32m   2424\u001b[0m         \u001b[39mself\u001b[39m\u001b[39m.\u001b[39maxes\u001b[39m.\u001b[39mtransAxes \u001b[39m-\u001b[39m \u001b[39mself\u001b[39m\u001b[39m.\u001b[39mfigure\u001b[39m.\u001b[39mdpi_scale_trans)\n\u001b[0;32m   2425\u001b[0m     length \u001b[39m=\u001b[39m ends\u001b[39m.\u001b[39mwidth \u001b[39m*\u001b[39m \u001b[39m72\u001b[39m\n\u001b[0;32m   2426\u001b[0m     \u001b[39m# There is a heuristic here that the aspect ratio of tick text\u001b[39;00m\n\u001b[0;32m   2427\u001b[0m     \u001b[39m# is no more than 3:1\u001b[39;00m\n",
      "File \u001b[1;32mc:\\Users\\larys\\AppData\\Local\\Programs\\Python\\Python310\\lib\\site-packages\\matplotlib\\transforms.py:793\u001b[0m, in \u001b[0;36mBbox.unit\u001b[1;34m()\u001b[0m\n\u001b[0;32m    790\u001b[0m \u001b[39m@staticmethod\u001b[39m\n\u001b[0;32m    791\u001b[0m \u001b[39mdef\u001b[39;00m \u001b[39munit\u001b[39m():\n\u001b[0;32m    792\u001b[0m \u001b[39m    \u001b[39m\u001b[39m\"\"\"Create a new unit `Bbox` from (0, 0) to (1, 1).\"\"\"\u001b[39;00m\n\u001b[1;32m--> 793\u001b[0m     \u001b[39mreturn\u001b[39;00m Bbox([[\u001b[39m0\u001b[39;49m, \u001b[39m0\u001b[39;49m], [\u001b[39m1\u001b[39;49m, \u001b[39m1\u001b[39;49m]])\n",
      "File \u001b[1;32mc:\\Users\\larys\\AppData\\Local\\Programs\\Python\\Python310\\lib\\site-packages\\matplotlib\\transforms.py:772\u001b[0m, in \u001b[0;36mBbox.__init__\u001b[1;34m(self, points, **kwargs)\u001b[0m\n\u001b[0;32m    768\u001b[0m \u001b[39mself\u001b[39m\u001b[39m.\u001b[39m_ignore \u001b[39m=\u001b[39m \u001b[39mTrue\u001b[39;00m\n\u001b[0;32m    769\u001b[0m \u001b[39m# it is helpful in some contexts to know if the bbox is a\u001b[39;00m\n\u001b[0;32m    770\u001b[0m \u001b[39m# default or has been mutated; we store the orig points to\u001b[39;00m\n\u001b[0;32m    771\u001b[0m \u001b[39m# support the mutated methods\u001b[39;00m\n\u001b[1;32m--> 772\u001b[0m \u001b[39mself\u001b[39m\u001b[39m.\u001b[39m_points_orig \u001b[39m=\u001b[39m \u001b[39mself\u001b[39;49m\u001b[39m.\u001b[39;49m_points\u001b[39m.\u001b[39;49mcopy()\n",
      "\u001b[1;31mKeyboardInterrupt\u001b[0m: "
     ]
    }
   ],
   "source": [
    "sn.pairplot(df)\n",
    "plt.show()"
   ]
  },
  {
   "cell_type": "code",
   "execution_count": null,
   "metadata": {
    "vscode": {
     "languageId": "html"
    }
   },
   "outputs": [],
   "source": [
    "<h2>Sumário estatístico</h2>"
   ]
  },
  {
   "cell_type": "code",
   "execution_count": null,
   "metadata": {},
   "outputs": [
    {
     "data": {
      "text/plain": [
       "count    569.000000\n",
       "mean       0.181162\n",
       "std        0.027414\n",
       "min        0.106000\n",
       "25%        0.161900\n",
       "50%        0.179200\n",
       "75%        0.195700\n",
       "max        0.304000\n",
       "Name: mean symmetry, dtype: float64"
      ]
     },
     "execution_count": 24,
     "metadata": {},
     "output_type": "execute_result"
    }
   ],
   "source": [
    "df['mean symmetry'].describe()"
   ]
  },
  {
   "cell_type": "code",
   "execution_count": null,
   "metadata": {
    "vscode": {
     "languageId": "html"
    }
   },
   "outputs": [],
   "source": [
    "<h1>Insumos</h1>"
   ]
  },
  {
   "cell_type": "code",
   "execution_count": 14,
   "metadata": {},
   "outputs": [],
   "source": [
    "colunas_selecionadas = ['worst concave points', 'mean concavity',\n",
    "                      'worst perimeter', 'worst radius', 'worst radius']\n",
    "df_selecionados = df[colunas_selecionadas]\n",
    "\n"
   ]
  },
  {
   "cell_type": "code",
   "execution_count": null,
   "metadata": {},
   "outputs": [],
   "source": [
    "colunas = list(df_selecionados.columns)\n",
    "for var in colunas:\n",
    "    plot = sn.displot(df[var])\n",
    "    plt.show()  \n"
   ]
  },
  {
   "cell_type": "code",
   "execution_count": 15,
   "metadata": {},
   "outputs": [
    {
     "ename": "ValueError",
     "evalue": "The truth value of a Series is ambiguous. Use a.empty, a.bool(), a.item(), a.any() or a.all().",
     "output_type": "error",
     "traceback": [
      "\u001b[1;31m---------------------------------------------------------------------------\u001b[0m",
      "\u001b[1;31mValueError\u001b[0m                                Traceback (most recent call last)",
      "Cell \u001b[1;32mIn[15], line 1\u001b[0m\n\u001b[1;32m----> 1\u001b[0m sn\u001b[39m.\u001b[39;49mpairplot(df_selecionados)\n\u001b[0;32m      2\u001b[0m plt\u001b[39m.\u001b[39mshow()\n",
      "File \u001b[1;32mc:\\Users\\larys\\AppData\\Local\\Programs\\Python\\Python310\\lib\\site-packages\\seaborn\\axisgrid.py:2114\u001b[0m, in \u001b[0;36mpairplot\u001b[1;34m(data, hue, hue_order, palette, vars, x_vars, y_vars, kind, diag_kind, markers, height, aspect, corner, dropna, plot_kws, diag_kws, grid_kws, size)\u001b[0m\n\u001b[0;32m   2112\u001b[0m \u001b[39m# Set up the PairGrid\u001b[39;00m\n\u001b[0;32m   2113\u001b[0m grid_kws\u001b[39m.\u001b[39msetdefault(\u001b[39m\"\u001b[39m\u001b[39mdiag_sharey\u001b[39m\u001b[39m\"\u001b[39m, diag_kind \u001b[39m==\u001b[39m \u001b[39m\"\u001b[39m\u001b[39mhist\u001b[39m\u001b[39m\"\u001b[39m)\n\u001b[1;32m-> 2114\u001b[0m grid \u001b[39m=\u001b[39m PairGrid(data, \u001b[39mvars\u001b[39m\u001b[39m=\u001b[39m\u001b[39mvars\u001b[39m, x_vars\u001b[39m=\u001b[39mx_vars, y_vars\u001b[39m=\u001b[39my_vars, hue\u001b[39m=\u001b[39mhue,\n\u001b[0;32m   2115\u001b[0m                 hue_order\u001b[39m=\u001b[39mhue_order, palette\u001b[39m=\u001b[39mpalette, corner\u001b[39m=\u001b[39mcorner,\n\u001b[0;32m   2116\u001b[0m                 height\u001b[39m=\u001b[39mheight, aspect\u001b[39m=\u001b[39maspect, dropna\u001b[39m=\u001b[39mdropna, \u001b[39m*\u001b[39m\u001b[39m*\u001b[39mgrid_kws)\n\u001b[0;32m   2118\u001b[0m \u001b[39m# Add the markers here as PairGrid has figured out how many levels of the\u001b[39;00m\n\u001b[0;32m   2119\u001b[0m \u001b[39m# hue variable are needed and we don't want to duplicate that process\u001b[39;00m\n\u001b[0;32m   2120\u001b[0m \u001b[39mif\u001b[39;00m markers \u001b[39mis\u001b[39;00m \u001b[39mnot\u001b[39;00m \u001b[39mNone\u001b[39;00m:\n",
      "File \u001b[1;32mc:\\Users\\larys\\AppData\\Local\\Programs\\Python\\Python310\\lib\\site-packages\\seaborn\\axisgrid.py:1245\u001b[0m, in \u001b[0;36mPairGrid.__init__\u001b[1;34m(self, data, hue, vars, x_vars, y_vars, hue_order, palette, hue_kws, corner, diag_sharey, height, aspect, layout_pad, despine, dropna)\u001b[0m\n\u001b[0;32m   1242\u001b[0m \u001b[39msuper\u001b[39m()\u001b[39m.\u001b[39m\u001b[39m__init__\u001b[39m()\n\u001b[0;32m   1244\u001b[0m \u001b[39m# Sort out the variables that define the grid\u001b[39;00m\n\u001b[1;32m-> 1245\u001b[0m numeric_cols \u001b[39m=\u001b[39m \u001b[39mself\u001b[39;49m\u001b[39m.\u001b[39;49m_find_numeric_cols(data)\n\u001b[0;32m   1246\u001b[0m \u001b[39mif\u001b[39;00m hue \u001b[39min\u001b[39;00m numeric_cols:\n\u001b[0;32m   1247\u001b[0m     numeric_cols\u001b[39m.\u001b[39mremove(hue)\n",
      "File \u001b[1;32mc:\\Users\\larys\\AppData\\Local\\Programs\\Python\\Python310\\lib\\site-packages\\seaborn\\axisgrid.py:1668\u001b[0m, in \u001b[0;36mPairGrid._find_numeric_cols\u001b[1;34m(self, data)\u001b[0m\n\u001b[0;32m   1666\u001b[0m numeric_cols \u001b[39m=\u001b[39m []\n\u001b[0;32m   1667\u001b[0m \u001b[39mfor\u001b[39;00m col \u001b[39min\u001b[39;00m data:\n\u001b[1;32m-> 1668\u001b[0m     \u001b[39mif\u001b[39;00m variable_type(data[col]) \u001b[39m==\u001b[39m \u001b[39m\"\u001b[39m\u001b[39mnumeric\u001b[39m\u001b[39m\"\u001b[39m:\n\u001b[0;32m   1669\u001b[0m         numeric_cols\u001b[39m.\u001b[39mappend(col)\n\u001b[0;32m   1670\u001b[0m \u001b[39mreturn\u001b[39;00m numeric_cols\n",
      "File \u001b[1;32mc:\\Users\\larys\\AppData\\Local\\Programs\\Python\\Python310\\lib\\site-packages\\seaborn\\_oldcore.py:1502\u001b[0m, in \u001b[0;36mvariable_type\u001b[1;34m(vector, boolean_type)\u001b[0m\n\u001b[0;32m   1499\u001b[0m     \u001b[39mreturn\u001b[39;00m VariableType(\u001b[39m\"\u001b[39m\u001b[39mcategorical\u001b[39m\u001b[39m\"\u001b[39m)\n\u001b[0;32m   1501\u001b[0m \u001b[39m# Special-case all-na data, which is always \"numeric\"\u001b[39;00m\n\u001b[1;32m-> 1502\u001b[0m \u001b[39mif\u001b[39;00m pd\u001b[39m.\u001b[39misna(vector)\u001b[39m.\u001b[39mall():\n\u001b[0;32m   1503\u001b[0m     \u001b[39mreturn\u001b[39;00m VariableType(\u001b[39m\"\u001b[39m\u001b[39mnumeric\u001b[39m\u001b[39m\"\u001b[39m)\n\u001b[0;32m   1505\u001b[0m \u001b[39m# Special-case binary/boolean data, allow caller to determine\u001b[39;00m\n\u001b[0;32m   1506\u001b[0m \u001b[39m# This triggers a numpy warning when vector has strings/objects\u001b[39;00m\n\u001b[0;32m   1507\u001b[0m \u001b[39m# https://github.com/numpy/numpy/issues/6784\u001b[39;00m\n\u001b[1;32m   (...)\u001b[0m\n\u001b[0;32m   1511\u001b[0m \u001b[39m# https://github.com/numpy/numpy/issues/13548\u001b[39;00m\n\u001b[0;32m   1512\u001b[0m \u001b[39m# This is considered a bug by numpy and will likely go away.\u001b[39;00m\n",
      "File \u001b[1;32mc:\\Users\\larys\\AppData\\Local\\Programs\\Python\\Python310\\lib\\site-packages\\pandas\\core\\generic.py:1527\u001b[0m, in \u001b[0;36mNDFrame.__nonzero__\u001b[1;34m(self)\u001b[0m\n\u001b[0;32m   1525\u001b[0m \u001b[39m@final\u001b[39m\n\u001b[0;32m   1526\u001b[0m \u001b[39mdef\u001b[39;00m \u001b[39m__nonzero__\u001b[39m(\u001b[39mself\u001b[39m) \u001b[39m-\u001b[39m\u001b[39m>\u001b[39m NoReturn:\n\u001b[1;32m-> 1527\u001b[0m     \u001b[39mraise\u001b[39;00m \u001b[39mValueError\u001b[39;00m(\n\u001b[0;32m   1528\u001b[0m         \u001b[39mf\u001b[39m\u001b[39m\"\u001b[39m\u001b[39mThe truth value of a \u001b[39m\u001b[39m{\u001b[39;00m\u001b[39mtype\u001b[39m(\u001b[39mself\u001b[39m)\u001b[39m.\u001b[39m\u001b[39m__name__\u001b[39m\u001b[39m}\u001b[39;00m\u001b[39m is ambiguous. \u001b[39m\u001b[39m\"\u001b[39m\n\u001b[0;32m   1529\u001b[0m         \u001b[39m\"\u001b[39m\u001b[39mUse a.empty, a.bool(), a.item(), a.any() or a.all().\u001b[39m\u001b[39m\"\u001b[39m\n\u001b[0;32m   1530\u001b[0m     )\n",
      "\u001b[1;31mValueError\u001b[0m: The truth value of a Series is ambiguous. Use a.empty, a.bool(), a.item(), a.any() or a.all()."
     ]
    }
   ],
   "source": [
    "sn.pairplot(df_selecionados)\n",
    "plt.show()"
   ]
  }
 ],
 "metadata": {
  "kernelspec": {
   "display_name": "Python 3",
   "language": "python",
   "name": "python3"
  },
  "language_info": {
   "codemirror_mode": {
    "name": "ipython",
    "version": 3
   },
   "file_extension": ".py",
   "mimetype": "text/x-python",
   "name": "python",
   "nbconvert_exporter": "python",
   "pygments_lexer": "ipython3",
   "version": "3.10.3"
  },
  "orig_nbformat": 4
 },
 "nbformat": 4,
 "nbformat_minor": 2
}
